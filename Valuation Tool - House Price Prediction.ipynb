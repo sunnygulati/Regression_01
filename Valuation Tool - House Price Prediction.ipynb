{
 "cells": [
  {
   "cell_type": "markdown",
   "metadata": {},
   "source": [
    "## House Price Valuation "
   ]
  },
  {
   "cell_type": "code",
   "execution_count": 1,
   "metadata": {},
   "outputs": [],
   "source": [
    "import pandas as pd\n",
    "import numpy as np\n",
    "\n",
    "from sklearn.linear_model import LinearRegression\n",
    "from sklearn.metrics import mean_squared_error\n",
    "from sklearn.datasets import load_boston"
   ]
  },
  {
   "cell_type": "markdown",
   "metadata": {},
   "source": [
    "### Gathering Data and Creating a Linear Model"
   ]
  },
  {
   "cell_type": "code",
   "execution_count": 2,
   "metadata": {},
   "outputs": [],
   "source": [
    "boston_dataset = load_boston()\n",
    "data = pd.DataFrame(data=boston_dataset.data, columns=boston_dataset.feature_names)\n",
    "features = data.drop(['INDUS', 'AGE'], axis=1)\n",
    "\n",
    "log_prices = np.log(boston_dataset.target)\n",
    "target = pd.DataFrame(log_prices, columns=['PRICE'])"
   ]
  },
  {
   "cell_type": "code",
   "execution_count": 3,
   "metadata": {},
   "outputs": [
    {
     "data": {
      "text/html": [
       "<div>\n",
       "<style scoped>\n",
       "    .dataframe tbody tr th:only-of-type {\n",
       "        vertical-align: middle;\n",
       "    }\n",
       "\n",
       "    .dataframe tbody tr th {\n",
       "        vertical-align: top;\n",
       "    }\n",
       "\n",
       "    .dataframe thead th {\n",
       "        text-align: right;\n",
       "    }\n",
       "</style>\n",
       "<table border=\"1\" class=\"dataframe\">\n",
       "  <thead>\n",
       "    <tr style=\"text-align: right;\">\n",
       "      <th></th>\n",
       "      <th>CRIM</th>\n",
       "      <th>ZN</th>\n",
       "      <th>CHAS</th>\n",
       "      <th>NOX</th>\n",
       "      <th>RM</th>\n",
       "      <th>DIS</th>\n",
       "      <th>RAD</th>\n",
       "      <th>TAX</th>\n",
       "      <th>PTRATIO</th>\n",
       "      <th>B</th>\n",
       "      <th>LSTAT</th>\n",
       "    </tr>\n",
       "  </thead>\n",
       "  <tbody>\n",
       "    <tr>\n",
       "      <th>0</th>\n",
       "      <td>0.00632</td>\n",
       "      <td>18.0</td>\n",
       "      <td>0.0</td>\n",
       "      <td>0.538</td>\n",
       "      <td>6.575</td>\n",
       "      <td>4.0900</td>\n",
       "      <td>1.0</td>\n",
       "      <td>296.0</td>\n",
       "      <td>15.3</td>\n",
       "      <td>396.90</td>\n",
       "      <td>4.98</td>\n",
       "    </tr>\n",
       "    <tr>\n",
       "      <th>1</th>\n",
       "      <td>0.02731</td>\n",
       "      <td>0.0</td>\n",
       "      <td>0.0</td>\n",
       "      <td>0.469</td>\n",
       "      <td>6.421</td>\n",
       "      <td>4.9671</td>\n",
       "      <td>2.0</td>\n",
       "      <td>242.0</td>\n",
       "      <td>17.8</td>\n",
       "      <td>396.90</td>\n",
       "      <td>9.14</td>\n",
       "    </tr>\n",
       "    <tr>\n",
       "      <th>2</th>\n",
       "      <td>0.02729</td>\n",
       "      <td>0.0</td>\n",
       "      <td>0.0</td>\n",
       "      <td>0.469</td>\n",
       "      <td>7.185</td>\n",
       "      <td>4.9671</td>\n",
       "      <td>2.0</td>\n",
       "      <td>242.0</td>\n",
       "      <td>17.8</td>\n",
       "      <td>392.83</td>\n",
       "      <td>4.03</td>\n",
       "    </tr>\n",
       "    <tr>\n",
       "      <th>3</th>\n",
       "      <td>0.03237</td>\n",
       "      <td>0.0</td>\n",
       "      <td>0.0</td>\n",
       "      <td>0.458</td>\n",
       "      <td>6.998</td>\n",
       "      <td>6.0622</td>\n",
       "      <td>3.0</td>\n",
       "      <td>222.0</td>\n",
       "      <td>18.7</td>\n",
       "      <td>394.63</td>\n",
       "      <td>2.94</td>\n",
       "    </tr>\n",
       "    <tr>\n",
       "      <th>4</th>\n",
       "      <td>0.06905</td>\n",
       "      <td>0.0</td>\n",
       "      <td>0.0</td>\n",
       "      <td>0.458</td>\n",
       "      <td>7.147</td>\n",
       "      <td>6.0622</td>\n",
       "      <td>3.0</td>\n",
       "      <td>222.0</td>\n",
       "      <td>18.7</td>\n",
       "      <td>396.90</td>\n",
       "      <td>5.33</td>\n",
       "    </tr>\n",
       "  </tbody>\n",
       "</table>\n",
       "</div>"
      ],
      "text/plain": [
       "      CRIM    ZN  CHAS    NOX     RM     DIS  RAD    TAX  PTRATIO       B  \\\n",
       "0  0.00632  18.0   0.0  0.538  6.575  4.0900  1.0  296.0     15.3  396.90   \n",
       "1  0.02731   0.0   0.0  0.469  6.421  4.9671  2.0  242.0     17.8  396.90   \n",
       "2  0.02729   0.0   0.0  0.469  7.185  4.9671  2.0  242.0     17.8  392.83   \n",
       "3  0.03237   0.0   0.0  0.458  6.998  6.0622  3.0  222.0     18.7  394.63   \n",
       "4  0.06905   0.0   0.0  0.458  7.147  6.0622  3.0  222.0     18.7  396.90   \n",
       "\n",
       "   LSTAT  \n",
       "0   4.98  \n",
       "1   9.14  \n",
       "2   4.03  \n",
       "3   2.94  \n",
       "4   5.33  "
      ]
     },
     "execution_count": 3,
     "metadata": {},
     "output_type": "execute_result"
    }
   ],
   "source": [
    "property_stats = features.mean().values.reshape(1,11)\n",
    "features.head()"
   ]
  },
  {
   "cell_type": "code",
   "execution_count": 4,
   "metadata": {},
   "outputs": [
    {
     "data": {
      "text/plain": [
       "(1, 11)"
      ]
     },
     "execution_count": 4,
     "metadata": {},
     "output_type": "execute_result"
    }
   ],
   "source": [
    "property_stats.shape"
   ]
  },
  {
   "cell_type": "code",
   "execution_count": 5,
   "metadata": {},
   "outputs": [
    {
     "data": {
      "text/plain": [
       "array([[3.61352356e+00, 1.13636364e+01, 6.91699605e-02, 5.54695059e-01,\n",
       "        6.28463439e+00, 3.79504269e+00, 9.54940711e+00, 4.08237154e+02,\n",
       "        1.84555336e+01, 3.56674032e+02, 1.26530632e+01]])"
      ]
     },
     "execution_count": 5,
     "metadata": {},
     "output_type": "execute_result"
    }
   ],
   "source": [
    "property_stats"
   ]
  },
  {
   "cell_type": "code",
   "execution_count": 6,
   "metadata": {},
   "outputs": [],
   "source": [
    "# building the model\n",
    "regr = LinearRegression()\n",
    "Linear_model = regr.fit(features, target)\n",
    "fitted_values = regr.predict(features)\n",
    "\n",
    "# calculating mean squared error and root mean squared error\n",
    "MSE = mean_squared_error(target, fitted_values)\n",
    "RMSE = np.sqrt(MSE)"
   ]
  },
  {
   "cell_type": "markdown",
   "metadata": {},
   "source": [
    "### Defining a function to calculate log prices"
   ]
  },
  {
   "cell_type": "code",
   "execution_count": 7,
   "metadata": {},
   "outputs": [],
   "source": [
    "def get_log_estimate(nr_rooms,\n",
    "                    students_per_classroom,\n",
    "                    next_to_river=False,\n",
    "                    high_confidence=True):\n",
    "    \n",
    "        # configure property\n",
    "        property_stats[0][4] = nr_rooms\n",
    "        property_stats[0][8] = students_per_classroom\n",
    "        \n",
    "        if next_to_river:\n",
    "                property_stats[0][2] = 1\n",
    "        else:\n",
    "            property_stats[0][2] = 0\n",
    "            \n",
    "    \n",
    "        # make predictions\n",
    "        log_estimate = regr.predict(property_stats)[0][0]\n",
    "        \n",
    "        \n",
    "        # calc range\n",
    "        if high_confidence:\n",
    "            upper_bound = log_estimate + 2*RMSE\n",
    "            lower_bound = log_estimate - 2*RMSE\n",
    "            interval = 96\n",
    "        else:\n",
    "            upper_bound = log_estimate + RMSE\n",
    "            lower_bound = log_estimate - RMSE\n",
    "            interval = 68\n",
    "            \n",
    "        return log_estimate, upper_bound, lower_bound, interval"
   ]
  },
  {
   "cell_type": "code",
   "execution_count": 8,
   "metadata": {},
   "outputs": [
    {
     "data": {
      "text/plain": [
       "(2.776758191480399, 2.9642703266775294, 2.589246056283269, 68)"
      ]
     },
     "execution_count": 8,
     "metadata": {},
     "output_type": "execute_result"
    }
   ],
   "source": [
    "get_log_estimate(3, 20, next_to_river=True, high_confidence=False)"
   ]
  },
  {
   "cell_type": "code",
   "execution_count": 9,
   "metadata": {},
   "outputs": [
    {
     "name": "stdout",
     "output_type": "stream",
     "text": [
      "The estimated house price is 839000.0.\n",
      "At 68% confidence the valuation range is\n",
      "USD 696000.0 at the lower end and USD 1013000.0 at the higher end.\n"
     ]
    }
   ],
   "source": [
    "# Zillow median home value $ 592,300\n",
    "median_boston_value = np.median(boston_dataset.target)\n",
    "median_zillow = 592.3\n",
    "scale_factor = (median_zillow/median_boston_value)\n",
    "\n",
    "log_est, upper, lower, conf = get_log_estimate(9, 15, next_to_river=False, high_confidence=False)\n",
    "\n",
    "dollar_est = np.e**log_est * 1000 * scale_factor\n",
    "dollar_hi = np.e**upper * 1000 * scale_factor\n",
    "dollar_low = np.e**lower * 1000 * scale_factor\n",
    "\n",
    "rounded_est = np.around(dollar_est, -3)\n",
    "rounded_hi = np.around(dollar_hi, -3)\n",
    "rounded_low = np.around(dollar_low, -3)\n",
    "\n",
    "print(f'The estimated house price is {rounded_est}.')\n",
    "print(f'At {conf}% confidence the valuation range is')\n",
    "print(f'USD {rounded_low} at the lower end and USD {rounded_hi} at the higher end.')"
   ]
  },
  {
   "cell_type": "markdown",
   "metadata": {},
   "source": [
    "### Defining a function to calculate house price in dollars"
   ]
  },
  {
   "cell_type": "code",
   "execution_count": 10,
   "metadata": {},
   "outputs": [],
   "source": [
    "def get_dollar_estimate(RM, PTRATIO, CHAS=False, High_Confidence=True):\n",
    "    \n",
    "    # Docstring\n",
    "    \n",
    "    \"\"\"\n",
    "    Estimate the price of a property in Boston.\n",
    "    RM -- number of rooms in the property\n",
    "    PTRATIO -- number of students per teacher in the classroom for the school in the area\n",
    "    CHAS -- True if the property is next to the river, False otherwise\n",
    "    High_Confidence -- True for a 95% prediction interval, False for a 68% prediction interval\n",
    "    \n",
    "    \"\"\"\n",
    "    if(RM<1 or PTRATIO<1):\n",
    "        print('It is unrealistic. Try again.')\n",
    "        return\n",
    "    \n",
    "    log_est, upper, lower, conf = get_log_estimate(RM, PTRATIO, next_to_river=CHAS, high_confidence=High_Confidence)\n",
    "\n",
    "    dollar_est = np.e**log_est * 1000 * scale_factor\n",
    "    dollar_hi = np.e**upper * 1000 * scale_factor\n",
    "    dollar_low = np.e**lower * 1000 * scale_factor\n",
    "\n",
    "    rounded_est = np.around(dollar_est, -3)\n",
    "    rounded_hi = np.around(dollar_hi, -3)\n",
    "    rounded_low = np.around(dollar_low, -3)\n",
    "\n",
    "    print(f'The estimated house price is {rounded_est}.')\n",
    "    print(f'At {conf}% confidence the valuation range is')\n",
    "    print(f'USD {rounded_low} at the lower end and USD {rounded_hi} at the higher end.')\n"
   ]
  },
  {
   "cell_type": "code",
   "execution_count": 11,
   "metadata": {},
   "outputs": [
    {
     "name": "stdout",
     "output_type": "stream",
     "text": [
      "The estimated house price is 584000.0.\n",
      "At 68% confidence the valuation range is\n",
      "USD 484000.0 at the lower end and USD 705000.0 at the higher end.\n"
     ]
    }
   ],
   "source": [
    "get_dollar_estimate(RM=5, PTRATIO=15, CHAS=False, High_Confidence=False)"
   ]
  },
  {
   "cell_type": "markdown",
   "metadata": {},
   "source": [
    "### Importing the self created module boston_valuation "
   ]
  },
  {
   "cell_type": "code",
   "execution_count": 12,
   "metadata": {},
   "outputs": [
    {
     "name": "stdout",
     "output_type": "stream",
     "text": [
      "The estimated house price is 839000.0.\n",
      "At 68% confidence the valuation range is\n",
      "USD 696000.0 at the lower end and USD 1013000.0 at the higher end.\n"
     ]
    }
   ],
   "source": [
    "import boston_valuation as val"
   ]
  },
  {
   "cell_type": "code",
   "execution_count": 13,
   "metadata": {},
   "outputs": [
    {
     "name": "stdout",
     "output_type": "stream",
     "text": [
      "The estimated house price is 584000.0.\n",
      "At 68% confidence the valuation range is\n",
      "USD 484000.0 at the lower end and USD 705000.0 at the higher end.\n"
     ]
    }
   ],
   "source": [
    "val.get_dollar_estimate(RM=5, PTRATIO=15, CHAS=False, High_Confidence=False)"
   ]
  },
  {
   "cell_type": "code",
   "execution_count": null,
   "metadata": {},
   "outputs": [],
   "source": []
  }
 ],
 "metadata": {
  "kernelspec": {
   "display_name": "Python 3",
   "language": "python",
   "name": "python3"
  },
  "language_info": {
   "codemirror_mode": {
    "name": "ipython",
    "version": 3
   },
   "file_extension": ".py",
   "mimetype": "text/x-python",
   "name": "python",
   "nbconvert_exporter": "python",
   "pygments_lexer": "ipython3",
   "version": "3.7.1"
  }
 },
 "nbformat": 4,
 "nbformat_minor": 2
}
